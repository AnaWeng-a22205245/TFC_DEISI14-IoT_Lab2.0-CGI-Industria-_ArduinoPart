{
 "cells": [
  {
   "cell_type": "markdown",
   "metadata": {},
   "source": [
    "## Código no Arduino##"
   ]
  },
  {
   "cell_type": "markdown",
   "metadata": {},
   "source": [
    "Cenário OK "
   ]
  },
  {
   "cell_type": "code",
   "execution_count": null,
   "metadata": {},
   "outputs": [],
   "source": [
    "\n",
    "void setup() {\n",
    "  // Configura os pinos dos LEDs como saída\n",
    "  //leds bloco 1\n",
    "  pinMode(12, OUTPUT);\n",
    "  pinMode(10, OUTPUT);\n",
    "//leds bloco 2\n",
    "  pinMode(7, OUTPUT);\n",
    "  pinMode(5, OUTPUT);\n",
    "}\n",
    "\n",
    "\n",
    "void loop() {\n",
    "  // Liga o LED verde\n",
    "  digitalWrite(12, HIGH);\n",
    "\n",
    "  // Verifica se o LED verde está ligado para ligar o outro LED\n",
    "  if(digitalRead(12) == HIGH) {\n",
    "    delay(1000);\n",
    "    digitalWrite(7, HIGH);\n",
    "     \n",
    "  } else {\n",
    "\n",
    "    digitalWrite(7, LOW); // Desliga o segundo LED\n",
    "  }\n",
    "\n",
    "  delay(1000); // Espera por um segundo\n",
    "\n",
    "  // Desliga ambos os LEDs\n",
    "  digitalWrite(12, LOW);\n",
    "  digitalWrite(7, LOW);\n",
    "\n",
    "  delay(2000); // Espera por um segundo antes de repetir o processo\n",
    "}\n"
   ]
  },
  {
   "cell_type": "markdown",
   "metadata": {},
   "source": [
    "Cenário NOT OK "
   ]
  },
  {
   "cell_type": "code",
   "execution_count": null,
   "metadata": {},
   "outputs": [],
   "source": [
    "void setup() {\n",
    "  // Configura os pinos dos LEDs como saída\n",
    "  pinMode(12, OUTPUT);\n",
    "  pinMode(10, OUTPUT); // Nota: Este pino (10) é configurado, mas não utilizado no exemplo.\n",
    "  pinMode(5, OUTPUT);\n",
    "\n",
    "  // Liga o LED no pino 12\n",
    "  digitalWrite(12, HIGH);\n",
    "\n",
    "  // Espera por um segundo antes de ligar o próximo LED\n",
    "  delay(1000);\n",
    "\n",
    "  // Liga o LED no pino 5 conforme solicitado\n",
    "  digitalWrite(5, HIGH);\n",
    "\n",
    "  // Espera um curto período antes de finalizar para garantir que a mudança de estado seja perceptível\n",
    "  delay(100);\n",
    "\n",
    "  // Desliga ambos os LEDs\n",
    "  digitalWrite(12, LOW);\n",
    "  digitalWrite(5, LOW);\n",
    "\n",
    "  // Após essa sequência, o programa não realizará mais ações.\n",
    "}\n",
    "\n",
    "void loop() {\n",
    "  // Deixar vazio para evitar repetição da sequência.\n",
    "}\n"
   ]
  },
  {
   "cell_type": "markdown",
   "metadata": {},
   "source": [
    "MQTT Code"
   ]
  },
  {
   "cell_type": "code",
   "execution_count": null,
   "metadata": {},
   "outputs": [],
   "source": [
    "#include <Wire.h>\n",
    "#include <UnoWiFiDevEd.h>\n",
    "\n",
    "#define CONNECTOR \"mqtt\"\n",
    "#define TOPIC \"22205245/anawen/device/test1\"\n",
    "#define TOPIC2 \"22205245/anawen/device/test\"\n",
    "\n",
    "void setup() {\n",
    "  Ciao.begin();\n",
    "\n",
    "}\n",
    "\n",
    "\n",
    "void loop(){\n",
    "\n",
    "  delay(5000);\n",
    "  int data_value = analogRead(A1); // data value from analog pin 1\n",
    "  Ciao.write(CONNECTOR, TOPIC, \"Ola\"); // pushes data into a channel called PIN_A1\n",
    " \n",
    "\n",
    "\n",
    "/*lê a msg e dá feedback a dizer x, ou seja a dizer que conseguiu fazer a cena*/\n",
    "\n",
    "\n",
    "  CiaoData data = Ciao.read(CONNECTOR, TOPIC2);\n",
    "  if (!data.isEmpty()){\n",
    "    const char* value = data.get(2);\n",
    "    Serial.println(value);\n",
    "    Ciao.write(CONNECTOR, TOPIC2, \"Recebi\"); // pushes data into a channel called PIN_A1\n",
    "  }\n",
    "}"
   ]
  }
 ],
 "metadata": {
  "kernelspec": {
   "display_name": "Python 3",
   "language": "python",
   "name": "python3"
  },
  "language_info": {
   "codemirror_mode": {
    "name": "ipython",
    "version": 3
   },
   "file_extension": ".py",
   "mimetype": "text/x-python",
   "name": "python",
   "nbconvert_exporter": "python",
   "pygments_lexer": "ipython3",
   "version": "3.11.8"
  }
 },
 "nbformat": 4,
 "nbformat_minor": 2
}
